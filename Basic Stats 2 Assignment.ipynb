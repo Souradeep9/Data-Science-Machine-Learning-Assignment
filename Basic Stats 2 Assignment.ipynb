{
 "cells": [
  {
   "cell_type": "code",
   "execution_count": null,
   "id": "4d59252e-7131-41dd-8a36-a963249e496b",
   "metadata": {},
   "outputs": [],
   "source": [
    "Part (a): 99% Confidence Interval Using Sample Standard Deviation\n",
    "Steps:\n",
    "Calculate sample mean (𝑥̄) and sample standard deviation (s).\n",
    "\n",
    "Find t-critical value for 99% CI and df = n - 1 = 14.\n",
    "\n",
    "Use formula:CI= \n",
    "x\n",
    "ˉ\n",
    " ±t \n",
    "α/2\n",
    "​\n",
    " ⋅ \n",
    "n\n",
    "​\n",
    " \n",
    "s\n",
    "​\n"
   ]
  },
  {
   "cell_type": "code",
   "execution_count": 1,
   "id": "a58e18ce-7aa3-447d-80ac-e9b30aa7a0e4",
   "metadata": {},
   "outputs": [],
   "source": [
    "import numpy as np\n",
    "from scipy import stats"
   ]
  },
  {
   "cell_type": "code",
   "execution_count": 9,
   "id": "de753bb0-010d-4e63-b084-2d4c03229a02",
   "metadata": {},
   "outputs": [],
   "source": [
    "data = [1.13, 1.55, 1.43, 0.92, 1.25, 1.36, 1.32, 0.85, 1.07, 1.48, 1.20, 1.33, 1.18, 1.22, 1.29]\n"
   ]
  },
  {
   "cell_type": "code",
   "execution_count": 11,
   "id": "4bb57dcb-9cab-4e15-8e59-095ff6a3f99e",
   "metadata": {},
   "outputs": [],
   "source": [
    "n = len(data)"
   ]
  },
  {
   "cell_type": "code",
   "execution_count": 13,
   "id": "9881d34a-a928-4afc-ba0b-4f9c3f9403ef",
   "metadata": {},
   "outputs": [
    {
     "data": {
      "text/plain": [
       "15"
      ]
     },
     "execution_count": 13,
     "metadata": {},
     "output_type": "execute_result"
    }
   ],
   "source": [
    "n"
   ]
  },
  {
   "cell_type": "code",
   "execution_count": 5,
   "id": "7fbc1d7b-60c7-4942-95ce-d52664ef5749",
   "metadata": {},
   "outputs": [],
   "source": [
    "mean = np.mean(data)"
   ]
  },
  {
   "cell_type": "code",
   "execution_count": 7,
   "id": "2d88da4f-5b53-4c11-8af8-74fe41715946",
   "metadata": {},
   "outputs": [
    {
     "data": {
      "text/plain": [
       "1.2386666666666666"
      ]
     },
     "execution_count": 7,
     "metadata": {},
     "output_type": "execute_result"
    }
   ],
   "source": [
    "mean"
   ]
  },
  {
   "cell_type": "code",
   "execution_count": 15,
   "id": "1b53f6de-4736-44f0-a861-4e143705a812",
   "metadata": {},
   "outputs": [],
   "source": [
    "std_dev = np.std(data, ddof=1) "
   ]
  },
  {
   "cell_type": "code",
   "execution_count": 17,
   "id": "ba65e757-3eb0-4516-9637-ad24f063c1ad",
   "metadata": {},
   "outputs": [
    {
     "data": {
      "text/plain": [
       "0.19316412956959936"
      ]
     },
     "execution_count": 17,
     "metadata": {},
     "output_type": "execute_result"
    }
   ],
   "source": [
    "std_dev"
   ]
  },
  {
   "cell_type": "code",
   "execution_count": 19,
   "id": "2b644c01-bdf1-48b5-a238-329975295994",
   "metadata": {},
   "outputs": [],
   "source": [
    "conf_level = 0.99\n",
    "df = n - 1"
   ]
  },
  {
   "cell_type": "code",
   "execution_count": 21,
   "id": "4cd7a099-4122-4901-8357-c366d059f923",
   "metadata": {},
   "outputs": [
    {
     "data": {
      "text/plain": [
       "14"
      ]
     },
     "execution_count": 21,
     "metadata": {},
     "output_type": "execute_result"
    }
   ],
   "source": [
    "df"
   ]
  },
  {
   "cell_type": "code",
   "execution_count": 23,
   "id": "d59d4a5b-e16f-435f-a5d8-8f812dccdc32",
   "metadata": {},
   "outputs": [],
   "source": [
    "t_critical = stats.t.ppf((1 + conf_level) / 2, df)"
   ]
  },
  {
   "cell_type": "code",
   "execution_count": 25,
   "id": "2caa6246-7dfb-4a8c-8e1e-7ffc8ad742f8",
   "metadata": {},
   "outputs": [
    {
     "data": {
      "text/plain": [
       "2.976842734370834"
      ]
     },
     "execution_count": 25,
     "metadata": {},
     "output_type": "execute_result"
    }
   ],
   "source": [
    "t_critical"
   ]
  },
  {
   "cell_type": "code",
   "execution_count": 27,
   "id": "0dc571c8-b671-4ebc-8d25-1bf0eee67422",
   "metadata": {},
   "outputs": [],
   "source": [
    "margin_error = t_critical * (std_dev / np.sqrt(n))"
   ]
  },
  {
   "cell_type": "code",
   "execution_count": 29,
   "id": "3799bd47-d4ad-4945-a35e-171cbb436b17",
   "metadata": {},
   "outputs": [
    {
     "data": {
      "text/plain": [
       "0.14846932822817596"
      ]
     },
     "execution_count": 29,
     "metadata": {},
     "output_type": "execute_result"
    }
   ],
   "source": [
    "margin_error"
   ]
  },
  {
   "cell_type": "code",
   "execution_count": 31,
   "id": "f6b7cc16-5b36-4237-99bd-502a3b834475",
   "metadata": {},
   "outputs": [],
   "source": [
    "lower = mean - margin_error"
   ]
  },
  {
   "cell_type": "code",
   "execution_count": 33,
   "id": "edc21cda-d490-42e3-aa18-3b63a5a0d17e",
   "metadata": {},
   "outputs": [
    {
     "data": {
      "text/plain": [
       "1.0901973384384906"
      ]
     },
     "execution_count": 33,
     "metadata": {},
     "output_type": "execute_result"
    }
   ],
   "source": [
    "lower"
   ]
  },
  {
   "cell_type": "code",
   "execution_count": 35,
   "id": "2195cd85-7e26-4013-9e6b-3cad77a994c3",
   "metadata": {},
   "outputs": [],
   "source": [
    "upper = mean + margin_error"
   ]
  },
  {
   "cell_type": "code",
   "execution_count": 37,
   "id": "b45b87d4-459b-40bc-8b08-4feb8dfdacb2",
   "metadata": {},
   "outputs": [
    {
     "data": {
      "text/plain": [
       "1.3871359948948425"
      ]
     },
     "execution_count": 37,
     "metadata": {},
     "output_type": "execute_result"
    }
   ],
   "source": [
    "upper"
   ]
  },
  {
   "cell_type": "code",
   "execution_count": 39,
   "id": "4e05496f-aa7f-4bec-9552-699f1016ed6b",
   "metadata": {},
   "outputs": [
    {
     "name": "stdout",
     "output_type": "stream",
     "text": [
      "Sample Mean: 1.2387\n"
     ]
    }
   ],
   "source": [
    "print(\"Sample Mean:\", round(mean, 4))"
   ]
  },
  {
   "cell_type": "code",
   "execution_count": 41,
   "id": "98d55207-1e29-4819-8897-46ed785c8fca",
   "metadata": {},
   "outputs": [
    {
     "name": "stdout",
     "output_type": "stream",
     "text": [
      "Sample Standard Deviation: 0.1932\n"
     ]
    }
   ],
   "source": [
    "print(\"Sample Standard Deviation:\", round(std_dev, 4))"
   ]
  },
  {
   "cell_type": "code",
   "execution_count": 43,
   "id": "ab74549c-bfd0-4ab0-b14e-095ee29934a7",
   "metadata": {},
   "outputs": [
    {
     "name": "stdout",
     "output_type": "stream",
     "text": [
      "99% CI using sample std dev: (1.0902, 1.3871)\n"
     ]
    }
   ],
   "source": [
    "print(\"99% CI using sample std dev: ({:.4f}, {:.4f})\".format(lower, upper))"
   ]
  },
  {
   "cell_type": "code",
   "execution_count": null,
   "id": "7426ebbe-08b0-4057-acbc-979d5353ef19",
   "metadata": {},
   "outputs": [],
   "source": [
    " Part (b): 99% Confidence Interval Using Known Population Standard Deviation\n",
    "Formula:CI= \n",
    "x\n",
    "ˉ\n",
    " ±z \n",
    "α/2\n",
    "​\n",
    " ⋅ \n",
    "n\n",
    "​\n",
    " \n",
    "σ\n",
    "​\n"
   ]
  },
  {
   "cell_type": "code",
   "execution_count": 45,
   "id": "54a13e37-eee8-44b4-becf-c5cd8aa982aa",
   "metadata": {},
   "outputs": [],
   "source": [
    "pop_std_dev = 0.2\n",
    "z_critical = stats.norm.ppf((1 + conf_level) / 2)"
   ]
  },
  {
   "cell_type": "code",
   "execution_count": 47,
   "id": "2b0eb35b-4f52-49b2-86f6-b6812ae3e1b8",
   "metadata": {},
   "outputs": [
    {
     "data": {
      "text/plain": [
       "2.5758293035489004"
      ]
     },
     "execution_count": 47,
     "metadata": {},
     "output_type": "execute_result"
    }
   ],
   "source": [
    "z_critical"
   ]
  },
  {
   "cell_type": "code",
   "execution_count": 49,
   "id": "2f4c90fb-f002-41b3-949e-8547af29488c",
   "metadata": {},
   "outputs": [
    {
     "data": {
      "text/plain": [
       "0.13301525327090588"
      ]
     },
     "execution_count": 49,
     "metadata": {},
     "output_type": "execute_result"
    }
   ],
   "source": [
    "margin_error_known = z_critical * (pop_std_dev / np.sqrt(n))\n",
    "margin_error_known"
   ]
  },
  {
   "cell_type": "code",
   "execution_count": 51,
   "id": "c04d1993-ca0c-47bd-8b7e-56389a2aa4b9",
   "metadata": {},
   "outputs": [],
   "source": [
    "lower_known = mean - margin_error_known"
   ]
  },
  {
   "cell_type": "code",
   "execution_count": 53,
   "id": "888400f4-63d3-47f9-899a-ac3065e9171a",
   "metadata": {},
   "outputs": [
    {
     "data": {
      "text/plain": [
       "1.1056514133957607"
      ]
     },
     "execution_count": 53,
     "metadata": {},
     "output_type": "execute_result"
    }
   ],
   "source": [
    "lower_known"
   ]
  },
  {
   "cell_type": "code",
   "execution_count": 55,
   "id": "623ac94e-35df-4354-a11d-e6d9f2c73bc4",
   "metadata": {},
   "outputs": [],
   "source": [
    "upper_known = mean + margin_error_known"
   ]
  },
  {
   "cell_type": "code",
   "execution_count": 57,
   "id": "97169442-d2cd-48ce-a856-b8a271f21300",
   "metadata": {},
   "outputs": [
    {
     "data": {
      "text/plain": [
       "1.3716819199375725"
      ]
     },
     "execution_count": 57,
     "metadata": {},
     "output_type": "execute_result"
    }
   ],
   "source": [
    "upper_known"
   ]
  },
  {
   "cell_type": "code",
   "execution_count": null,
   "id": "be6e5490-4800-41f7-8640-1ed8c089baf9",
   "metadata": {},
   "outputs": [],
   "source": []
  }
 ],
 "metadata": {
  "kernelspec": {
   "display_name": "Python [conda env:base] *",
   "language": "python",
   "name": "conda-base-py"
  },
  "language_info": {
   "codemirror_mode": {
    "name": "ipython",
    "version": 3
   },
   "file_extension": ".py",
   "mimetype": "text/x-python",
   "name": "python",
   "nbconvert_exporter": "python",
   "pygments_lexer": "ipython3",
   "version": "3.12.7"
  }
 },
 "nbformat": 4,
 "nbformat_minor": 5
}
